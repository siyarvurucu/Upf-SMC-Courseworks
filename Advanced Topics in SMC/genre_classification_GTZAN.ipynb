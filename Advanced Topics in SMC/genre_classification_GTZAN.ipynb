{
  "nbformat": 4,
  "nbformat_minor": 0,
  "metadata": {
    "colab": {
      "name": "adv_smc_hw2.ipynb",
      "provenance": []
    },
    "kernelspec": {
      "name": "python3",
      "display_name": "Python 3"
    }
  },
  "cells": [
    {
      "cell_type": "code",
      "metadata": {
        "id": "2Zu3xVihue70",
        "colab_type": "code",
        "colab": {}
      },
      "source": [
        "from scipy.io import arff\n",
        "import pandas as pd\n",
        "import numpy as np\n",
        "import torch\n",
        "import torchvision\n",
        "import torch.nn as nn\n",
        "import torch.nn.functional as F\n",
        "import torch.optim as optim\n",
        "from torch.utils import data as D\n",
        "import matplotlib.pyplot as plt"
      ],
      "execution_count": 0,
      "outputs": []
    },
    {
      "cell_type": "code",
      "metadata": {
        "id": "_r7rH235xUoE",
        "colab_type": "code",
        "colab": {}
      },
      "source": [
        "genre, meta = arff.loadarff('/content/Genre.arff')"
      ],
      "execution_count": 0,
      "outputs": []
    },
    {
      "cell_type": "code",
      "metadata": {
        "id": "AeLA9fIeMbyw",
        "colab_type": "code",
        "colab": {}
      },
      "source": [
        "df = pd.DataFrame(genre)"
      ],
      "execution_count": 0,
      "outputs": []
    },
    {
      "cell_type": "code",
      "metadata": {
        "id": "gICfSSXdsfqf",
        "colab_type": "code",
        "colab": {}
      },
      "source": [
        "df[\"highlevel_speech_music_value\"] = df[\"highlevel_speech_music_value\"].str.decode('utf-8')\n",
        "df[\"highlevel_voice_instrumental_value\"] = df[\"highlevel_voice_instrumental_value\"].str.decode('utf-8')\n",
        "df[\"genre\"] = df[\"genre\"].str.decode('utf-8')\n",
        "df[\"tonal_key_mode_value\"] = df[\"tonal_key_mode_value\"].str.decode('utf-8')\n"
      ],
      "execution_count": 0,
      "outputs": []
    },
    {
      "cell_type": "code",
      "metadata": {
        "id": "6wcSIE6BZwaR",
        "colab_type": "code",
        "colab": {}
      },
      "source": [
        "cleanup_nums = {\"highlevel_speech_music_value\":{\"music\": 0, \"speech\": 1},\n",
        "                \"highlevel_voice_instrumental_value\": {\"instrumental\": 0, \"voice\": 1 },\n",
        "                \"tonal_key_mode_value\": {\"minor\": 0, \"major\": 1 },\n",
        "                \"genre\":{\"blu\":0, \"cla\":1, \"cou\":2, \"dis\":3, \"hip\":4, \"jaz\":5, \"met\":6, \"pop\":7, \"reg\":8, \"roc\":9}}\n",
        "df_encoded = df.replace(cleanup_nums, inplace=False)\n",
        "df_onehot_1 = pd.get_dummies(df_encoded,columns=['highlevel_speech_music_value',\n",
        "                                        'highlevel_voice_instrumental_value',\n",
        "                                        'tonal_key_mode_value'])\n",
        "cols = list(df_onehot_1.columns)\n",
        "df_onehot_1=df_onehot_1[cols[:237] + cols[238:] + [cols[237]]]"
      ],
      "execution_count": 0,
      "outputs": []
    },
    {
      "cell_type": "code",
      "metadata": {
        "id": "flcASDQoUeNf",
        "colab_type": "code",
        "colab": {}
      },
      "source": [
        "#normalized_df=(df-df.min())/(df.max()-df.min())"
      ],
      "execution_count": 0,
      "outputs": []
    },
    {
      "cell_type": "code",
      "metadata": {
        "id": "8ZPYRjWzbQw0",
        "colab_type": "code",
        "outputId": "5afffb79-3ebf-4890-fe08-360132afe39a",
        "colab": {
          "base_uri": "https://localhost:8080/",
          "height": 253
        }
      },
      "source": [
        "df_onehot_1.head()"
      ],
      "execution_count": 0,
      "outputs": [
        {
          "output_type": "execute_result",
          "data": {
            "text/html": [
              "<div>\n",
              "<style scoped>\n",
              "    .dataframe tbody tr th:only-of-type {\n",
              "        vertical-align: middle;\n",
              "    }\n",
              "\n",
              "    .dataframe tbody tr th {\n",
              "        vertical-align: top;\n",
              "    }\n",
              "\n",
              "    .dataframe thead th {\n",
              "        text-align: right;\n",
              "    }\n",
              "</style>\n",
              "<table border=\"1\" class=\"dataframe\">\n",
              "  <thead>\n",
              "    <tr style=\"text-align: right;\">\n",
              "      <th></th>\n",
              "      <th>highlevel_danceability_value</th>\n",
              "      <th>highlevel_equalization_profile_value</th>\n",
              "      <th>highlevel_excitement_value</th>\n",
              "      <th>highlevel_intensity_value</th>\n",
              "      <th>loudness_dynamic_complexity_dvar</th>\n",
              "      <th>loudness_dynamic_complexity_mean</th>\n",
              "      <th>loudness_dynamic_complexity_var</th>\n",
              "      <th>loudness_larm_dvar</th>\n",
              "      <th>loudness_larm_mean</th>\n",
              "      <th>loudness_larm_var</th>\n",
              "      <th>loudness_replay_gain_value</th>\n",
              "      <th>loudness_vicker_dvar</th>\n",
              "      <th>loudness_vicker_mean</th>\n",
              "      <th>loudness_vicker_var</th>\n",
              "      <th>rhythm_beats_loudness_bass_dvar</th>\n",
              "      <th>rhythm_beats_loudness_bass_mean</th>\n",
              "      <th>rhythm_beats_loudness_bass_var</th>\n",
              "      <th>rhythm_beats_loudness_dvar</th>\n",
              "      <th>rhythm_beats_loudness_mean</th>\n",
              "      <th>rhythm_beats_loudness_var</th>\n",
              "      <th>rhythm_onset_rate_value</th>\n",
              "      <th>spectral_barkbands_00_dvar</th>\n",
              "      <th>spectral_barkbands_00_mean</th>\n",
              "      <th>spectral_barkbands_00_var</th>\n",
              "      <th>spectral_barkbands_01_dvar</th>\n",
              "      <th>spectral_barkbands_01_mean</th>\n",
              "      <th>spectral_barkbands_01_var</th>\n",
              "      <th>spectral_barkbands_02_dvar</th>\n",
              "      <th>spectral_barkbands_02_mean</th>\n",
              "      <th>spectral_barkbands_02_var</th>\n",
              "      <th>spectral_barkbands_03_dvar</th>\n",
              "      <th>spectral_barkbands_03_mean</th>\n",
              "      <th>spectral_barkbands_03_var</th>\n",
              "      <th>spectral_barkbands_04_dvar</th>\n",
              "      <th>spectral_barkbands_04_mean</th>\n",
              "      <th>spectral_barkbands_04_var</th>\n",
              "      <th>spectral_barkbands_05_dvar</th>\n",
              "      <th>spectral_barkbands_05_mean</th>\n",
              "      <th>spectral_barkbands_05_var</th>\n",
              "      <th>spectral_barkbands_06_dvar</th>\n",
              "      <th>...</th>\n",
              "      <th>spectral_silence_rate_60dB_var</th>\n",
              "      <th>spectral_skewness_dvar</th>\n",
              "      <th>spectral_skewness_mean</th>\n",
              "      <th>spectral_skewness_var</th>\n",
              "      <th>spectral_spread_dvar</th>\n",
              "      <th>spectral_spread_mean</th>\n",
              "      <th>spectral_spread_var</th>\n",
              "      <th>spectral_strongpeak_dvar</th>\n",
              "      <th>spectral_strongpeak_mean</th>\n",
              "      <th>spectral_strongpeak_var</th>\n",
              "      <th>temporal_zerocrossingrate_dvar</th>\n",
              "      <th>temporal_zerocrossingrate_mean</th>\n",
              "      <th>temporal_zerocrossingrate_var</th>\n",
              "      <th>tempotap_bpm_estimates_dvar</th>\n",
              "      <th>tempotap_bpm_estimates_mean</th>\n",
              "      <th>tempotap_bpm_estimates_var</th>\n",
              "      <th>tempotap_bpm_value</th>\n",
              "      <th>timbral_complexity_dvar</th>\n",
              "      <th>timbral_complexity_mean</th>\n",
              "      <th>timbral_complexity_var</th>\n",
              "      <th>tonal_chords_changes_rate_value</th>\n",
              "      <th>tonal_chords_dissonance_dvar</th>\n",
              "      <th>tonal_chords_dissonance_mean</th>\n",
              "      <th>tonal_chords_dissonance_var</th>\n",
              "      <th>tonal_chords_number_rate_value</th>\n",
              "      <th>tonal_chords_strength_dvar</th>\n",
              "      <th>tonal_chords_strength_mean</th>\n",
              "      <th>tonal_chords_strength_var</th>\n",
              "      <th>tonal_dissonance_dvar</th>\n",
              "      <th>tonal_dissonance_mean</th>\n",
              "      <th>tonal_dissonance_var</th>\n",
              "      <th>tonal_key_strength_value</th>\n",
              "      <th>tonal_tuning_equal_tempered_deviation_value</th>\n",
              "      <th>highlevel_speech_music_value_0</th>\n",
              "      <th>highlevel_speech_music_value_1</th>\n",
              "      <th>highlevel_voice_instrumental_value_0</th>\n",
              "      <th>highlevel_voice_instrumental_value_1</th>\n",
              "      <th>tonal_key_mode_value_0</th>\n",
              "      <th>tonal_key_mode_value_1</th>\n",
              "      <th>genre</th>\n",
              "    </tr>\n",
              "  </thead>\n",
              "  <tbody>\n",
              "    <tr>\n",
              "      <th>0</th>\n",
              "      <td>0.206472</td>\n",
              "      <td>0.372766</td>\n",
              "      <td>0.029087</td>\n",
              "      <td>0.093526</td>\n",
              "      <td>-0.411385</td>\n",
              "      <td>0.024215</td>\n",
              "      <td>-0.201421</td>\n",
              "      <td>-0.532833</td>\n",
              "      <td>0.702348</td>\n",
              "      <td>-0.304162</td>\n",
              "      <td>-0.024487</td>\n",
              "      <td>-0.846413</td>\n",
              "      <td>0.919727</td>\n",
              "      <td>-0.750326</td>\n",
              "      <td>-0.172460</td>\n",
              "      <td>0.929212</td>\n",
              "      <td>-0.261089</td>\n",
              "      <td>-0.193266</td>\n",
              "      <td>0.694974</td>\n",
              "      <td>-0.231590</td>\n",
              "      <td>0.478116</td>\n",
              "      <td>-0.115289</td>\n",
              "      <td>0.002534</td>\n",
              "      <td>-0.160331</td>\n",
              "      <td>-0.003445</td>\n",
              "      <td>0.862221</td>\n",
              "      <td>-0.052989</td>\n",
              "      <td>-0.261717</td>\n",
              "      <td>0.249193</td>\n",
              "      <td>-0.279313</td>\n",
              "      <td>-0.442601</td>\n",
              "      <td>-0.002635</td>\n",
              "      <td>-0.325319</td>\n",
              "      <td>0.006353</td>\n",
              "      <td>1.310631</td>\n",
              "      <td>0.386974</td>\n",
              "      <td>-0.248731</td>\n",
              "      <td>-0.455313</td>\n",
              "      <td>-0.277999</td>\n",
              "      <td>1.341961</td>\n",
              "      <td>...</td>\n",
              "      <td>-0.093268</td>\n",
              "      <td>-0.344900</td>\n",
              "      <td>-0.140824</td>\n",
              "      <td>-0.345782</td>\n",
              "      <td>0.017402</td>\n",
              "      <td>-0.124781</td>\n",
              "      <td>0.172126</td>\n",
              "      <td>0.171313</td>\n",
              "      <td>1.278099</td>\n",
              "      <td>-0.230627</td>\n",
              "      <td>-0.633999</td>\n",
              "      <td>-0.892049</td>\n",
              "      <td>-0.759252</td>\n",
              "      <td>0.434289</td>\n",
              "      <td>-1.691921</td>\n",
              "      <td>0.378448</td>\n",
              "      <td>-1.068684</td>\n",
              "      <td>-0.112090</td>\n",
              "      <td>-0.135098</td>\n",
              "      <td>-0.236251</td>\n",
              "      <td>0.814246</td>\n",
              "      <td>-0.266199</td>\n",
              "      <td>0.297177</td>\n",
              "      <td>-0.230311</td>\n",
              "      <td>-1.407427</td>\n",
              "      <td>-0.255337</td>\n",
              "      <td>1.140774</td>\n",
              "      <td>-1.490395</td>\n",
              "      <td>0.494393</td>\n",
              "      <td>0.149725</td>\n",
              "      <td>-0.013634</td>\n",
              "      <td>0.526779</td>\n",
              "      <td>-0.205793</td>\n",
              "      <td>1</td>\n",
              "      <td>0</td>\n",
              "      <td>0</td>\n",
              "      <td>1</td>\n",
              "      <td>1</td>\n",
              "      <td>0</td>\n",
              "      <td>0</td>\n",
              "    </tr>\n",
              "    <tr>\n",
              "      <th>1</th>\n",
              "      <td>-0.368479</td>\n",
              "      <td>0.372766</td>\n",
              "      <td>1.341977</td>\n",
              "      <td>0.093526</td>\n",
              "      <td>-0.349921</td>\n",
              "      <td>-0.015672</td>\n",
              "      <td>-0.173045</td>\n",
              "      <td>-0.452769</td>\n",
              "      <td>-0.365326</td>\n",
              "      <td>-0.330522</td>\n",
              "      <td>-0.050286</td>\n",
              "      <td>-0.885979</td>\n",
              "      <td>0.578624</td>\n",
              "      <td>-0.993143</td>\n",
              "      <td>-0.419147</td>\n",
              "      <td>-0.315975</td>\n",
              "      <td>-0.164839</td>\n",
              "      <td>-0.358631</td>\n",
              "      <td>-0.504920</td>\n",
              "      <td>-0.397909</td>\n",
              "      <td>-0.741369</td>\n",
              "      <td>-0.222598</td>\n",
              "      <td>-0.588028</td>\n",
              "      <td>-0.227662</td>\n",
              "      <td>-0.300875</td>\n",
              "      <td>-0.658818</td>\n",
              "      <td>-0.334130</td>\n",
              "      <td>-0.306309</td>\n",
              "      <td>-0.366649</td>\n",
              "      <td>-0.342895</td>\n",
              "      <td>-0.421833</td>\n",
              "      <td>-0.382409</td>\n",
              "      <td>-0.402336</td>\n",
              "      <td>-0.359020</td>\n",
              "      <td>-0.567930</td>\n",
              "      <td>-0.381362</td>\n",
              "      <td>-0.273538</td>\n",
              "      <td>-0.510434</td>\n",
              "      <td>-0.294455</td>\n",
              "      <td>-0.566908</td>\n",
              "      <td>...</td>\n",
              "      <td>-0.093268</td>\n",
              "      <td>-0.460114</td>\n",
              "      <td>-0.774049</td>\n",
              "      <td>-0.395388</td>\n",
              "      <td>-0.730034</td>\n",
              "      <td>0.029227</td>\n",
              "      <td>-0.879273</td>\n",
              "      <td>-0.580647</td>\n",
              "      <td>-0.013611</td>\n",
              "      <td>-0.674982</td>\n",
              "      <td>-0.366133</td>\n",
              "      <td>0.251808</td>\n",
              "      <td>0.066906</td>\n",
              "      <td>-0.852510</td>\n",
              "      <td>0.413868</td>\n",
              "      <td>-0.731175</td>\n",
              "      <td>0.357418</td>\n",
              "      <td>-0.711714</td>\n",
              "      <td>-0.259751</td>\n",
              "      <td>-0.964501</td>\n",
              "      <td>-0.055100</td>\n",
              "      <td>-0.510019</td>\n",
              "      <td>-0.319468</td>\n",
              "      <td>-0.512892</td>\n",
              "      <td>-0.636402</td>\n",
              "      <td>-0.121114</td>\n",
              "      <td>0.497749</td>\n",
              "      <td>-0.901662</td>\n",
              "      <td>0.347729</td>\n",
              "      <td>-0.517640</td>\n",
              "      <td>0.184709</td>\n",
              "      <td>-0.129683</td>\n",
              "      <td>-0.667979</td>\n",
              "      <td>1</td>\n",
              "      <td>0</td>\n",
              "      <td>0</td>\n",
              "      <td>1</td>\n",
              "      <td>0</td>\n",
              "      <td>1</td>\n",
              "      <td>0</td>\n",
              "    </tr>\n",
              "    <tr>\n",
              "      <th>2</th>\n",
              "      <td>-0.631747</td>\n",
              "      <td>0.372766</td>\n",
              "      <td>-1.283803</td>\n",
              "      <td>-1.324366</td>\n",
              "      <td>4.235612</td>\n",
              "      <td>5.779127</td>\n",
              "      <td>3.973258</td>\n",
              "      <td>1.713613</td>\n",
              "      <td>-1.889279</td>\n",
              "      <td>0.416157</td>\n",
              "      <td>-0.311997</td>\n",
              "      <td>-0.564181</td>\n",
              "      <td>-1.454938</td>\n",
              "      <td>-0.847100</td>\n",
              "      <td>0.661237</td>\n",
              "      <td>0.477024</td>\n",
              "      <td>2.104009</td>\n",
              "      <td>-0.347312</td>\n",
              "      <td>-1.356588</td>\n",
              "      <td>-0.389079</td>\n",
              "      <td>-1.894935</td>\n",
              "      <td>-0.220981</td>\n",
              "      <td>-0.480847</td>\n",
              "      <td>-0.226534</td>\n",
              "      <td>-0.314596</td>\n",
              "      <td>-0.850496</td>\n",
              "      <td>-0.353619</td>\n",
              "      <td>-0.354199</td>\n",
              "      <td>-1.063422</td>\n",
              "      <td>-0.422780</td>\n",
              "      <td>-0.581570</td>\n",
              "      <td>-1.274615</td>\n",
              "      <td>-0.612241</td>\n",
              "      <td>-0.054996</td>\n",
              "      <td>-0.520139</td>\n",
              "      <td>0.494719</td>\n",
              "      <td>-0.471552</td>\n",
              "      <td>-0.862222</td>\n",
              "      <td>-0.310716</td>\n",
              "      <td>-0.273401</td>\n",
              "      <td>...</td>\n",
              "      <td>-0.093268</td>\n",
              "      <td>0.178100</td>\n",
              "      <td>0.633244</td>\n",
              "      <td>0.320039</td>\n",
              "      <td>-0.545443</td>\n",
              "      <td>-0.468077</td>\n",
              "      <td>0.236453</td>\n",
              "      <td>-0.814961</td>\n",
              "      <td>-1.590558</td>\n",
              "      <td>-0.266606</td>\n",
              "      <td>-0.757131</td>\n",
              "      <td>-1.368166</td>\n",
              "      <td>-0.626789</td>\n",
              "      <td>1.405882</td>\n",
              "      <td>0.249006</td>\n",
              "      <td>2.675544</td>\n",
              "      <td>-1.168789</td>\n",
              "      <td>-1.085818</td>\n",
              "      <td>-1.483719</td>\n",
              "      <td>-1.250616</td>\n",
              "      <td>-0.188845</td>\n",
              "      <td>-0.299099</td>\n",
              "      <td>-0.236246</td>\n",
              "      <td>-0.313044</td>\n",
              "      <td>-1.021915</td>\n",
              "      <td>-0.190639</td>\n",
              "      <td>1.408974</td>\n",
              "      <td>-0.502029</td>\n",
              "      <td>1.174496</td>\n",
              "      <td>-1.454160</td>\n",
              "      <td>2.144489</td>\n",
              "      <td>-1.022781</td>\n",
              "      <td>0.937795</td>\n",
              "      <td>0</td>\n",
              "      <td>1</td>\n",
              "      <td>1</td>\n",
              "      <td>0</td>\n",
              "      <td>0</td>\n",
              "      <td>1</td>\n",
              "      <td>0</td>\n",
              "    </tr>\n",
              "    <tr>\n",
              "      <th>3</th>\n",
              "      <td>-0.190116</td>\n",
              "      <td>0.372766</td>\n",
              "      <td>1.341977</td>\n",
              "      <td>0.093526</td>\n",
              "      <td>-0.307576</td>\n",
              "      <td>0.068818</td>\n",
              "      <td>-0.216986</td>\n",
              "      <td>-0.519222</td>\n",
              "      <td>-0.185776</td>\n",
              "      <td>-0.218878</td>\n",
              "      <td>-0.019932</td>\n",
              "      <td>-0.613371</td>\n",
              "      <td>0.486458</td>\n",
              "      <td>-0.234420</td>\n",
              "      <td>-0.428439</td>\n",
              "      <td>-0.821464</td>\n",
              "      <td>-0.489129</td>\n",
              "      <td>-0.350013</td>\n",
              "      <td>-0.478042</td>\n",
              "      <td>-0.398617</td>\n",
              "      <td>0.774747</td>\n",
              "      <td>-0.222533</td>\n",
              "      <td>-0.557707</td>\n",
              "      <td>-0.227136</td>\n",
              "      <td>-0.311025</td>\n",
              "      <td>-0.729841</td>\n",
              "      <td>-0.345904</td>\n",
              "      <td>-0.338329</td>\n",
              "      <td>-0.752528</td>\n",
              "      <td>-0.396566</td>\n",
              "      <td>-0.509645</td>\n",
              "      <td>-0.806985</td>\n",
              "      <td>-0.535524</td>\n",
              "      <td>-0.281527</td>\n",
              "      <td>-0.370114</td>\n",
              "      <td>-0.341616</td>\n",
              "      <td>-0.013138</td>\n",
              "      <td>-0.221217</td>\n",
              "      <td>-0.189033</td>\n",
              "      <td>0.110064</td>\n",
              "      <td>...</td>\n",
              "      <td>-0.093268</td>\n",
              "      <td>-0.301809</td>\n",
              "      <td>-0.361185</td>\n",
              "      <td>-0.425729</td>\n",
              "      <td>-0.396848</td>\n",
              "      <td>-0.013867</td>\n",
              "      <td>-0.812270</td>\n",
              "      <td>-0.594957</td>\n",
              "      <td>-0.207445</td>\n",
              "      <td>-0.543594</td>\n",
              "      <td>-0.397526</td>\n",
              "      <td>-0.188347</td>\n",
              "      <td>-0.443084</td>\n",
              "      <td>1.140272</td>\n",
              "      <td>0.528623</td>\n",
              "      <td>1.042392</td>\n",
              "      <td>2.118905</td>\n",
              "      <td>-0.571014</td>\n",
              "      <td>-0.320845</td>\n",
              "      <td>-0.881332</td>\n",
              "      <td>-0.055100</td>\n",
              "      <td>-0.424182</td>\n",
              "      <td>-0.107207</td>\n",
              "      <td>-0.298102</td>\n",
              "      <td>-1.021915</td>\n",
              "      <td>0.257633</td>\n",
              "      <td>0.622749</td>\n",
              "      <td>1.399033</td>\n",
              "      <td>0.791524</td>\n",
              "      <td>-0.601227</td>\n",
              "      <td>0.873673</td>\n",
              "      <td>0.074454</td>\n",
              "      <td>-0.406373</td>\n",
              "      <td>1</td>\n",
              "      <td>0</td>\n",
              "      <td>0</td>\n",
              "      <td>1</td>\n",
              "      <td>0</td>\n",
              "      <td>1</td>\n",
              "      <td>0</td>\n",
              "    </tr>\n",
              "    <tr>\n",
              "      <th>4</th>\n",
              "      <td>0.588278</td>\n",
              "      <td>0.372766</td>\n",
              "      <td>1.341977</td>\n",
              "      <td>0.802473</td>\n",
              "      <td>-0.332032</td>\n",
              "      <td>-1.078238</td>\n",
              "      <td>0.350680</td>\n",
              "      <td>-0.765884</td>\n",
              "      <td>-0.473132</td>\n",
              "      <td>-0.293164</td>\n",
              "      <td>-0.176837</td>\n",
              "      <td>-1.012014</td>\n",
              "      <td>0.814997</td>\n",
              "      <td>-0.799939</td>\n",
              "      <td>-0.617382</td>\n",
              "      <td>-0.884710</td>\n",
              "      <td>-0.766361</td>\n",
              "      <td>-0.362621</td>\n",
              "      <td>-0.709583</td>\n",
              "      <td>-0.417626</td>\n",
              "      <td>1.104338</td>\n",
              "      <td>-0.219236</td>\n",
              "      <td>-0.524616</td>\n",
              "      <td>-0.226240</td>\n",
              "      <td>-0.302836</td>\n",
              "      <td>-0.686902</td>\n",
              "      <td>-0.343619</td>\n",
              "      <td>-0.346007</td>\n",
              "      <td>-0.758220</td>\n",
              "      <td>-0.413019</td>\n",
              "      <td>-0.545170</td>\n",
              "      <td>-0.550400</td>\n",
              "      <td>-0.568861</td>\n",
              "      <td>-0.379471</td>\n",
              "      <td>-0.464621</td>\n",
              "      <td>-0.431419</td>\n",
              "      <td>-0.043346</td>\n",
              "      <td>0.585282</td>\n",
              "      <td>-0.106036</td>\n",
              "      <td>-0.062719</td>\n",
              "      <td>...</td>\n",
              "      <td>-0.093268</td>\n",
              "      <td>-0.640938</td>\n",
              "      <td>-0.956202</td>\n",
              "      <td>-0.596407</td>\n",
              "      <td>-0.812714</td>\n",
              "      <td>0.209534</td>\n",
              "      <td>-1.054704</td>\n",
              "      <td>-0.473435</td>\n",
              "      <td>-0.206043</td>\n",
              "      <td>-0.799232</td>\n",
              "      <td>-0.341867</td>\n",
              "      <td>0.682926</td>\n",
              "      <td>-0.526747</td>\n",
              "      <td>0.748466</td>\n",
              "      <td>1.231101</td>\n",
              "      <td>0.366684</td>\n",
              "      <td>2.101166</td>\n",
              "      <td>-0.235301</td>\n",
              "      <td>0.652960</td>\n",
              "      <td>-0.713656</td>\n",
              "      <td>-0.924445</td>\n",
              "      <td>-0.720996</td>\n",
              "      <td>-0.794839</td>\n",
              "      <td>-0.700485</td>\n",
              "      <td>-0.636402</td>\n",
              "      <td>-0.309481</td>\n",
              "      <td>1.301291</td>\n",
              "      <td>-0.708195</td>\n",
              "      <td>-0.093155</td>\n",
              "      <td>0.287901</td>\n",
              "      <td>-0.644858</td>\n",
              "      <td>0.919307</td>\n",
              "      <td>-0.917709</td>\n",
              "      <td>1</td>\n",
              "      <td>0</td>\n",
              "      <td>1</td>\n",
              "      <td>0</td>\n",
              "      <td>0</td>\n",
              "      <td>1</td>\n",
              "      <td>0</td>\n",
              "    </tr>\n",
              "  </tbody>\n",
              "</table>\n",
              "<p>5 rows × 244 columns</p>\n",
              "</div>"
            ],
            "text/plain": [
              "   highlevel_danceability_value  ...  genre\n",
              "0                      0.206472  ...      0\n",
              "1                     -0.368479  ...      0\n",
              "2                     -0.631747  ...      0\n",
              "3                     -0.190116  ...      0\n",
              "4                      0.588278  ...      0\n",
              "\n",
              "[5 rows x 244 columns]"
            ]
          },
          "metadata": {
            "tags": []
          },
          "execution_count": 13
        }
      ]
    },
    {
      "cell_type": "markdown",
      "metadata": {
        "id": "2DS9b-FiCRDP",
        "colab_type": "text"
      },
      "source": [
        ""
      ]
    },
    {
      "cell_type": "code",
      "metadata": {
        "id": "UQzhUWT0CUAQ",
        "colab_type": "code",
        "colab": {}
      },
      "source": [
        "targets_df = df_onehot_1[df_onehot_1.columns[243]]\n",
        "targets = targets_df.values\n",
        "torch_targets = torch.tensor(targets,dtype=torch.float64)\n",
        "torch_features = torch.tensor(df_onehot_1[df_onehot_1.columns[:243]].values)\n",
        "dataset = D.TensorDataset(torch_features,torch_targets)\n",
        "train_size = int(0.8 * len(dataset))\n",
        "test_size = (len(dataset) - train_size)//2\n",
        "val_size = (len(dataset) - train_size) - test_size\n",
        "train_dataset, val_dataset, test_dataset = torch.utils.data.random_split(dataset, [train_size, val_size, test_size])\n",
        "\n",
        "train_loader = D.DataLoader(train_dataset, batch_size=10, shuffle=True)\n",
        "val_loader = D.DataLoader(val_dataset, batch_size=len(val_dataset), shuffle=False)\n",
        "testloader = D.DataLoader(test_dataset, batch_size=len(test_dataset), shuffle=False)\n",
        "all_loader = D.DataLoader(dataset, batch_size=1, shuffle=False)"
      ],
      "execution_count": 0,
      "outputs": []
    },
    {
      "cell_type": "code",
      "metadata": {
        "id": "Jm_zdc_8Jg_2",
        "colab_type": "code",
        "colab": {}
      },
      "source": [
        "class Fc_1(nn.Module):\n",
        "  def __init__(self):\n",
        "    super(Fc_1, self).__init__()\n",
        "    self.fc1 = nn.Linear(243,256)\n",
        "    self.fc3 = nn.Linear(256,256)\n",
        "    self.fc2 = nn.Linear(256,10)\n",
        "  def forward(self, x):\n",
        "    x = F.leaky_relu(self.fc1(x))\n",
        "    x = F.leaky_relu(self.fc3(x))\n",
        "    x = F.leaky_relu(self.fc2(x))\n",
        "    return x"
      ],
      "execution_count": 0,
      "outputs": []
    },
    {
      "cell_type": "code",
      "metadata": {
        "id": "HdSPOWtAZQQ4",
        "colab_type": "code",
        "colab": {}
      },
      "source": [
        "class Fc_2(nn.Module):\n",
        "  def __init__(self):\n",
        "    super(Fc_2, self).__init__()\n",
        "    self.fc1 = nn.Linear(243,256)\n",
        "    self.fc2 = nn.Linear(256,10)\n",
        "  def forward(self, x):\n",
        "    x = F.leaky_relu(self.fc1(x))\n",
        "    x = F.leaky_relu(self.fc2(x))\n",
        "    return x"
      ],
      "execution_count": 0,
      "outputs": []
    },
    {
      "cell_type": "markdown",
      "metadata": {
        "id": "E9U38AazZEnt",
        "colab_type": "text"
      },
      "source": [
        ""
      ]
    },
    {
      "cell_type": "code",
      "metadata": {
        "id": "-voEWVREGh_x",
        "colab_type": "code",
        "colab": {}
      },
      "source": [
        "def train(net,train_loader,criterion,optimizer,epoch):\n",
        "  for epoch in range(epoch):  # loop over the dataset multiple times\n",
        "      running_loss = 0.0\n",
        "      for i, data in enumerate(train_loader, 0):\n",
        "          inputs, labels = data\n",
        "          # zero the parameter gradients\n",
        "          optimizer.zero_grad()\n",
        "          # forward + backward + optimize\n",
        "          outputs = net(inputs.float())\n",
        "          loss = criterion(outputs, labels.long())\n",
        "          loss.backward()\n",
        "          optimizer.step()\n",
        "          running_loss += loss.item()\n"
      ],
      "execution_count": 0,
      "outputs": []
    },
    {
      "cell_type": "code",
      "metadata": {
        "id": "as8N6g7OejzL",
        "colab_type": "code",
        "colab": {}
      },
      "source": [
        "def train_valcheck(net,train_loader,val_loader,criterion,optimizer,epoch):\n",
        "  train_loss_array = np.array([])\n",
        "  val_loss_array = np.array([])\n",
        "  for epoch in range(epoch):  # loop over the dataset multiple times\n",
        "      running_loss = 0.0\n",
        "      for i, data in enumerate(train_loader, 0):\n",
        "          inputs, labels = data\n",
        "          # zero the parameter gradients\n",
        "          optimizer.zero_grad()\n",
        "          # forward + backward + optimize\n",
        "          outputs = net(inputs.float())\n",
        "          loss = criterion(outputs, labels.long())\n",
        "          loss.backward()\n",
        "          optimizer.step()\n",
        "          running_loss += loss.item()\n",
        "      train_loss_array = np.append(train_loss_array, running_loss)\n",
        "      with torch.no_grad():\n",
        "          for i, data in enumerate(val_loader,0):\n",
        "              inputs, labels = data\n",
        "              val_loss = criterion(net(inputs.float()),labels.long())\n",
        "              val_loss_array = np.append(val_loss_array, val_loss.item())\n",
        "  return train_loss_array, val_loss_array\n",
        "  #print('Finished Training')\n",
        "  #plt.plot(loss_array)"
      ],
      "execution_count": 0,
      "outputs": []
    },
    {
      "cell_type": "code",
      "metadata": {
        "id": "IJm-eXQUmXL4",
        "colab_type": "code",
        "outputId": "d8cdee76-7da0-4c56-a9d9-71b65d198fa6",
        "colab": {
          "base_uri": "https://localhost:8080/",
          "height": 282
        }
      },
      "source": [
        "net = Fc_1()\n",
        "criterion = nn.CrossEntropyLoss()\n",
        "optimizer = optim.SGD(net.parameters(),lr=0.001, momentum = 0.9)\n",
        "epoch = 100\n",
        "train_loss, val_loss = train_valcheck(net,train_loader,val_loader,criterion, optimizer, epoch)\n",
        "plt.plot(train_loss)\n",
        "plt.plot(64*val_loss)\n",
        "\n",
        "## overfitting after epoch 25"
      ],
      "execution_count": 0,
      "outputs": [
        {
          "output_type": "execute_result",
          "data": {
            "text/plain": [
              "[<matplotlib.lines.Line2D at 0x7ff67e1a8cc0>]"
            ]
          },
          "metadata": {
            "tags": []
          },
          "execution_count": 19
        },
        {
          "output_type": "display_data",
          "data": {
            "image/png": "[encoded data removed]",
            "text/plain": [
              "<Figure size 432x288 with 1 Axes>"
            ]
          },
          "metadata": {
            "tags": []
          }
        }
      ]
    },
    {
      "cell_type": "code",
      "metadata": {
        "id": "OL4PP5Tmzm49",
        "colab_type": "code",
        "outputId": "37c4709b-d4b6-421a-87f0-a62f7055dbd0",
        "colab": {
          "base_uri": "https://localhost:8080/",
          "height": 299
        }
      },
      "source": [
        "net = Fc_2()\n",
        "criterion = nn.CrossEntropyLoss()\n",
        "optimizer = optim.SGD(net.parameters(),lr=0.001, momentum = 0.9,weight_decay = 0.001)\n",
        "epoch = 500\n",
        "train_loss, val_loss = train_valcheck(net,train_loader,val_loader,criterion, optimizer, epoch)\n",
        "plt.plot(train_loss)\n",
        "plt.plot(64*val_loss)\n",
        "print(\"train acc: \",test(net,train_loader))\n",
        "print(\"val acc: \",test(net,val_loader))\n",
        "# training accuracy being so high shows that model has enough capacity.\n",
        "# This shows, training set is NOT representing validation set well.\n",
        "# Stratified splitting can be used, to have equal distribution of classes in datasets\n",
        "# adding weight decay (L2 regularization) improves val. accuracy by 1 percent"
      ],
      "execution_count": 0,
      "outputs": [
        {
          "output_type": "stream",
          "text": [
            "train acc:  99.6875\n",
            "val acc:  88.75\n"
          ],
          "name": "stdout"
        },
        {
          "output_type": "display_data",
          "data": {
            "image/png": "[encoded data removed]",
            "text/plain": [
              "<Figure size 432x288 with 1 Axes>"
            ]
          },
          "metadata": {
            "tags": []
          }
        }
      ]
    },
    {
      "cell_type": "code",
      "metadata": {
        "id": "InxfQZyRcXaI",
        "colab_type": "code",
        "colab": {}
      },
      "source": [
        "def test(net,testloader):\n",
        "  correct = 0\n",
        "  total = 0\n",
        "  with torch.no_grad():\n",
        "      for data in testloader:\n",
        "          features, labels = data\n",
        "          outputs = net(features.float())\n",
        "          _, predicted = torch.max(outputs.data, 1)\n",
        "          total += labels.size(0)\n",
        "          correct += (predicted == labels).sum().item()\n",
        "  accuracy = 100 * correct / total\n",
        "  return accuracy"
      ],
      "execution_count": 0,
      "outputs": []
    },
    {
      "cell_type": "code",
      "metadata": {
        "id": "r_IzkKoWjSMT",
        "colab_type": "code",
        "colab": {}
      },
      "source": [
        "def kfold_cv(model,k,dataset,epoch):\n",
        "  k_array = (1/k)*np.ones([k],dtype=np.int32)*len(dataset)\n",
        "  k_array = k_array.astype(int)\n",
        "  folds = torch.utils.data.random_split(dataset,k_array.tolist())\n",
        "  acc_array = []\n",
        "  \n",
        "  for i in range(k):\n",
        "      net = model()\n",
        "      criterion = nn.CrossEntropyLoss()\n",
        "      optimizer = optim.SGD(net.parameters(),lr=0.001, momentum = 0.9, weight_decay = 0.001)\n",
        "\n",
        "      valset = folds[i]\n",
        "      trainset = torch.utils.data.ConcatDataset(folds[:i] + folds[i+1:])\n",
        "\n",
        "      train_loader = D.DataLoader(trainset, batch_size=10, shuffle=False)\n",
        "      valloader = D.DataLoader(valset, batch_size=1, shuffle=False)\n",
        "\n",
        "      train(net,train_loader,criterion,optimizer,epoch)\n",
        "      acc = test(net,valloader)\n",
        "      acc_train = test(net,train_loader)\n",
        "      acc_array.append(acc)\n",
        "      print(\"Train acc\", acc_train)\n",
        "      print(\"Accuracy of\",i,\"st fold is % \", acc)\n",
        "  print(\"Average accuracy: \", np.mean(acc_array))\n",
        "  return acc_array, net\n"
      ],
      "execution_count": 0,
      "outputs": []
    },
    {
      "cell_type": "code",
      "metadata": {
        "id": "wPw4-JC0gOym",
        "colab_type": "code",
        "outputId": "1c513141-8419-4de0-81d4-f9fb1b045de0",
        "colab": {
          "base_uri": "https://localhost:8080/",
          "height": 357
        }
      },
      "source": [
        "model = Fc_1\n",
        "acc, net1 = kfold_cv(model,10,dataset,150)"
      ],
      "execution_count": 0,
      "outputs": [
        {
          "output_type": "stream",
          "text": [
            "Train acc 100.0\n",
            "Accuracy of 0 st fold is %  86.25\n",
            "Train acc 100.0\n",
            "Accuracy of 1 st fold is %  78.75\n",
            "Train acc 100.0\n",
            "Accuracy of 2 st fold is %  86.25\n",
            "Train acc 100.0\n",
            "Accuracy of 3 st fold is %  88.75\n",
            "Train acc 99.86111111111111\n",
            "Accuracy of 4 st fold is %  87.5\n",
            "Train acc 99.86111111111111\n",
            "Accuracy of 5 st fold is %  86.25\n",
            "Train acc 99.86111111111111\n",
            "Accuracy of 6 st fold is %  81.25\n",
            "Train acc 99.86111111111111\n",
            "Accuracy of 7 st fold is %  81.25\n",
            "Train acc 99.86111111111111\n",
            "Accuracy of 8 st fold is %  82.5\n",
            "Train acc 100.0\n",
            "Accuracy of 9 st fold is %  86.25\n"
          ],
          "name": "stdout"
        }
      ]
    },
    {
      "cell_type": "code",
      "metadata": {
        "id": "yacwZ95HdU7-",
        "colab_type": "code",
        "outputId": "572c3430-0ca2-4a27-ec53-134808218da8",
        "colab": {
          "base_uri": "https://localhost:8080/",
          "height": 357
        }
      },
      "source": [
        "model = Fc_2\n",
        "acc, net2 = kfold_cv(model,10,dataset,150)"
      ],
      "execution_count": 0,
      "outputs": [
        {
          "output_type": "stream",
          "text": [
            "Train acc 99.86111111111111\n",
            "Accuracy of 0 st fold is %  81.25\n",
            "Train acc 99.86111111111111\n",
            "Accuracy of 1 st fold is %  82.5\n",
            "Train acc 100.0\n",
            "Accuracy of 2 st fold is %  82.5\n",
            "Train acc 99.86111111111111\n",
            "Accuracy of 3 st fold is %  81.25\n",
            "Train acc 99.86111111111111\n",
            "Accuracy of 4 st fold is %  87.5\n",
            "Train acc 99.72222222222223\n",
            "Accuracy of 5 st fold is %  86.25\n",
            "Train acc 99.86111111111111\n",
            "Accuracy of 6 st fold is %  80.0\n",
            "Train acc 99.72222222222223\n",
            "Accuracy of 7 st fold is %  87.5\n",
            "Train acc 99.72222222222223\n",
            "Accuracy of 8 st fold is %  85.0\n",
            "Train acc 99.86111111111111\n",
            "Accuracy of 9 st fold is %  85.0\n"
          ],
          "name": "stdout"
        }
      ]
    },
    {
      "cell_type": "code",
      "metadata": {
        "id": "jIeMffiQ_aJ0",
        "colab_type": "code",
        "outputId": "6060eef0-8b3f-4011-a7e7-729b35a49bf1",
        "colab": {
          "base_uri": "https://localhost:8080/",
          "height": 357
        }
      },
      "source": [
        "model = Fc_2\n",
        "acc, net2 = kfold_cv(model,10,dataset,500)"
      ],
      "execution_count": 0,
      "outputs": [
        {
          "output_type": "stream",
          "text": [
            "Train acc 99.86111111111111\n",
            "Accuracy of 0 st fold is %  85.0\n",
            "Train acc 100.0\n",
            "Accuracy of 1 st fold is %  82.5\n",
            "Train acc 99.86111111111111\n",
            "Accuracy of 2 st fold is %  83.75\n",
            "Train acc 99.86111111111111\n",
            "Accuracy of 3 st fold is %  80.0\n",
            "Train acc 99.86111111111111\n",
            "Accuracy of 4 st fold is %  88.75\n",
            "Train acc 99.86111111111111\n",
            "Accuracy of 5 st fold is %  76.25\n",
            "Train acc 99.86111111111111\n",
            "Accuracy of 6 st fold is %  81.25\n",
            "Train acc 99.86111111111111\n",
            "Accuracy of 7 st fold is %  82.5\n",
            "Train acc 99.86111111111111\n",
            "Accuracy of 8 st fold is %  85.0\n",
            "Train acc 99.86111111111111\n",
            "Accuracy of 9 st fold is %  90.0\n"
          ],
          "name": "stdout"
        }
      ]
    },
    {
      "cell_type": "code",
      "metadata": {
        "id": "_V7GBppnWgGC",
        "colab_type": "code",
        "outputId": "ed842d65-6605-4c00-e5ba-1dfd28be3359",
        "colab": {
          "base_uri": "https://localhost:8080/",
          "height": 374
        }
      },
      "source": [
        "model = Fc_2\n",
        "acc, net2 = kfold_cv(model,10,dataset,500)\n",
        "print(\"Average accuracy: \",np.mean(acc))"
      ],
      "execution_count": 0,
      "outputs": [
        {
          "output_type": "stream",
          "text": [
            "Train acc 100.0\n",
            "Accuracy of 0 st fold is %  82.5\n",
            "Train acc 100.0\n",
            "Accuracy of 1 st fold is %  85.0\n",
            "Train acc 100.0\n",
            "Accuracy of 2 st fold is %  80.0\n",
            "Train acc 100.0\n",
            "Accuracy of 3 st fold is %  76.25\n",
            "Train acc 100.0\n",
            "Accuracy of 4 st fold is %  86.25\n",
            "Train acc 100.0\n",
            "Accuracy of 5 st fold is %  86.25\n",
            "Train acc 100.0\n",
            "Accuracy of 6 st fold is %  90.0\n",
            "Train acc 100.0\n",
            "Accuracy of 7 st fold is %  82.5\n",
            "Train acc 100.0\n",
            "Accuracy of 8 st fold is %  85.0\n",
            "Train acc 100.0\n",
            "Accuracy of 9 st fold is %  81.25\n",
            "Average accuracy:  83.5\n"
          ],
          "name": "stdout"
        }
      ]
    },
    {
      "cell_type": "code",
      "metadata": {
        "id": "YwUHFDVo1mKo",
        "colab_type": "code",
        "outputId": "f33d4a61-2b6c-40a3-c626-b4a3fe9e60f6",
        "colab": {
          "base_uri": "https://localhost:8080/",
          "height": 34
        }
      },
      "source": [
        "test(net1,all_loader)"
      ],
      "execution_count": 0,
      "outputs": [
        {
          "output_type": "execute_result",
          "data": {
            "text/plain": [
              "98.625"
            ]
          },
          "metadata": {
            "tags": []
          },
          "execution_count": 38
        }
      ]
    },
    {
      "cell_type": "code",
      "metadata": {
        "id": "GtEIVfevAXla",
        "colab_type": "code",
        "colab": {}
      },
      "source": [
        "# genre30 has 30 features, reduced from original dataset\n",
        "genre30, meta = arff.loadarff('/content/genre_CAE_30.arff')"
      ],
      "execution_count": 0,
      "outputs": []
    },
    {
      "cell_type": "code",
      "metadata": {
        "id": "xbEzguNEAf2L",
        "colab_type": "code",
        "colab": {}
      },
      "source": [
        "df = pd.DataFrame(genre30)\n",
        "df[\"genre\"] = df[\"genre\"].str.decode('utf-8')\n",
        "cleanup_nums = { \"genre\":{\"blu\":0, \"cla\":1, \"cou\":2, \"dis\":3,\n",
        "                          \"hip\":4, \"jaz\":5, \"met\":6, \"pop\":7, \"reg\":8, \"roc\":9}}\n",
        "df_encoded = df.replace(cleanup_nums, inplace=False)"
      ],
      "execution_count": 0,
      "outputs": []
    },
    {
      "cell_type": "code",
      "metadata": {
        "id": "2grKZioBAk4b",
        "colab_type": "code",
        "outputId": "426d8fb1-77bb-4f37-bac2-7af54bcc12b1",
        "colab": {
          "base_uri": "https://localhost:8080/",
          "height": 224
        }
      },
      "source": [
        "df_encoded.head()"
      ],
      "execution_count": 0,
      "outputs": [
        {
          "output_type": "execute_result",
          "data": {
            "text/html": [
              "<div>\n",
              "<style scoped>\n",
              "    .dataframe tbody tr th:only-of-type {\n",
              "        vertical-align: middle;\n",
              "    }\n",
              "\n",
              "    .dataframe tbody tr th {\n",
              "        vertical-align: top;\n",
              "    }\n",
              "\n",
              "    .dataframe thead th {\n",
              "        text-align: right;\n",
              "    }\n",
              "</style>\n",
              "<table border=\"1\" class=\"dataframe\">\n",
              "  <thead>\n",
              "    <tr style=\"text-align: right;\">\n",
              "      <th></th>\n",
              "      <th>spectral_mfcc_02_dvar</th>\n",
              "      <th>spectral_flux_mean</th>\n",
              "      <th>spectral_mfcc_05_dvar</th>\n",
              "      <th>spectral_pitch_instantaneous_confidence_mean</th>\n",
              "      <th>spectral_mfcc_04_dvar</th>\n",
              "      <th>tonal_dissonance_mean</th>\n",
              "      <th>spectral_centroid_mean</th>\n",
              "      <th>spectral_decrease_dvar</th>\n",
              "      <th>spectral_barkbands_spread_dvar</th>\n",
              "      <th>spectral_pitch_salience_dvar</th>\n",
              "      <th>timbral_complexity_var</th>\n",
              "      <th>spectral_mfcc_01_dvar</th>\n",
              "      <th>timbral_complexity_dvar</th>\n",
              "      <th>spectral_decrease_var</th>\n",
              "      <th>spectral_barkbands_spread_mean</th>\n",
              "      <th>spectral_centroid_dvar</th>\n",
              "      <th>spectral_barkbands_spread_var</th>\n",
              "      <th>spectral_mfcc_06_dvar</th>\n",
              "      <th>temporal_zerocrossingrate_mean</th>\n",
              "      <th>spectral_pitch_histogram_spread_value</th>\n",
              "      <th>spectral_energybandratio_low_dvar</th>\n",
              "      <th>temporal_zerocrossingrate_dvar</th>\n",
              "      <th>spectral_spread_dvar</th>\n",
              "      <th>temporal_zerocrossingrate_var</th>\n",
              "      <th>spectral_decrease_mean</th>\n",
              "      <th>loudness_vicker_dvar</th>\n",
              "      <th>spectral_mfcc_07_dvar</th>\n",
              "      <th>spectral_rolloff_var</th>\n",
              "      <th>spectral_energybandratio_low_var</th>\n",
              "      <th>rhythm_beats_loudness_bass_mean</th>\n",
              "      <th>genre</th>\n",
              "    </tr>\n",
              "  </thead>\n",
              "  <tbody>\n",
              "    <tr>\n",
              "      <th>0</th>\n",
              "      <td>0.330636</td>\n",
              "      <td>0.706007</td>\n",
              "      <td>0.399326</td>\n",
              "      <td>-0.095943</td>\n",
              "      <td>0.581677</td>\n",
              "      <td>0.149725</td>\n",
              "      <td>-0.404595</td>\n",
              "      <td>0.009878</td>\n",
              "      <td>-0.635255</td>\n",
              "      <td>0.307352</td>\n",
              "      <td>-0.236251</td>\n",
              "      <td>-0.012875</td>\n",
              "      <td>-0.112090</td>\n",
              "      <td>0.275637</td>\n",
              "      <td>-0.618718</td>\n",
              "      <td>-0.454785</td>\n",
              "      <td>-0.721672</td>\n",
              "      <td>-0.294119</td>\n",
              "      <td>-0.892049</td>\n",
              "      <td>-0.565506</td>\n",
              "      <td>1.111933</td>\n",
              "      <td>-0.633999</td>\n",
              "      <td>0.017402</td>\n",
              "      <td>-0.759252</td>\n",
              "      <td>-0.549655</td>\n",
              "      <td>-0.846413</td>\n",
              "      <td>0.418836</td>\n",
              "      <td>-0.769260</td>\n",
              "      <td>0.747800</td>\n",
              "      <td>0.929212</td>\n",
              "      <td>0</td>\n",
              "    </tr>\n",
              "    <tr>\n",
              "      <th>1</th>\n",
              "      <td>-0.288091</td>\n",
              "      <td>-0.099297</td>\n",
              "      <td>0.344226</td>\n",
              "      <td>1.118064</td>\n",
              "      <td>-0.188595</td>\n",
              "      <td>-0.517640</td>\n",
              "      <td>0.440791</td>\n",
              "      <td>-0.430376</td>\n",
              "      <td>-0.468459</td>\n",
              "      <td>0.111924</td>\n",
              "      <td>-0.964501</td>\n",
              "      <td>0.126847</td>\n",
              "      <td>-0.711714</td>\n",
              "      <td>-0.898536</td>\n",
              "      <td>0.022561</td>\n",
              "      <td>-0.416140</td>\n",
              "      <td>-0.106111</td>\n",
              "      <td>0.214961</td>\n",
              "      <td>0.251808</td>\n",
              "      <td>-0.755587</td>\n",
              "      <td>-0.187631</td>\n",
              "      <td>-0.366133</td>\n",
              "      <td>-0.730034</td>\n",
              "      <td>0.066906</td>\n",
              "      <td>0.380576</td>\n",
              "      <td>-0.885979</td>\n",
              "      <td>-0.349580</td>\n",
              "      <td>0.297785</td>\n",
              "      <td>-0.118526</td>\n",
              "      <td>-0.315975</td>\n",
              "      <td>0</td>\n",
              "    </tr>\n",
              "    <tr>\n",
              "      <th>2</th>\n",
              "      <td>-0.071401</td>\n",
              "      <td>-1.678194</td>\n",
              "      <td>-0.106436</td>\n",
              "      <td>1.721464</td>\n",
              "      <td>0.049092</td>\n",
              "      <td>-1.454160</td>\n",
              "      <td>-1.115229</td>\n",
              "      <td>-0.979408</td>\n",
              "      <td>-0.915620</td>\n",
              "      <td>0.692375</td>\n",
              "      <td>-1.250616</td>\n",
              "      <td>-0.081383</td>\n",
              "      <td>-1.085818</td>\n",
              "      <td>-0.988138</td>\n",
              "      <td>-1.293028</td>\n",
              "      <td>-0.562652</td>\n",
              "      <td>-0.930834</td>\n",
              "      <td>0.276358</td>\n",
              "      <td>-1.368166</td>\n",
              "      <td>-0.582741</td>\n",
              "      <td>0.480443</td>\n",
              "      <td>-0.757131</td>\n",
              "      <td>-0.545443</td>\n",
              "      <td>-0.626789</td>\n",
              "      <td>2.318561</td>\n",
              "      <td>-0.564181</td>\n",
              "      <td>0.410228</td>\n",
              "      <td>-0.705023</td>\n",
              "      <td>1.746837</td>\n",
              "      <td>0.477024</td>\n",
              "      <td>0</td>\n",
              "    </tr>\n",
              "    <tr>\n",
              "      <th>3</th>\n",
              "      <td>0.042013</td>\n",
              "      <td>0.142474</td>\n",
              "      <td>0.356091</td>\n",
              "      <td>1.132709</td>\n",
              "      <td>0.654592</td>\n",
              "      <td>-0.601227</td>\n",
              "      <td>-0.000069</td>\n",
              "      <td>0.025487</td>\n",
              "      <td>-0.605747</td>\n",
              "      <td>0.304036</td>\n",
              "      <td>-0.881332</td>\n",
              "      <td>0.468865</td>\n",
              "      <td>-0.571014</td>\n",
              "      <td>-0.541892</td>\n",
              "      <td>-0.351129</td>\n",
              "      <td>-0.221291</td>\n",
              "      <td>-0.709709</td>\n",
              "      <td>0.560338</td>\n",
              "      <td>-0.188347</td>\n",
              "      <td>-0.931335</td>\n",
              "      <td>-0.908498</td>\n",
              "      <td>-0.397526</td>\n",
              "      <td>-0.396848</td>\n",
              "      <td>-0.443084</td>\n",
              "      <td>0.164481</td>\n",
              "      <td>-0.613371</td>\n",
              "      <td>0.393849</td>\n",
              "      <td>-0.427271</td>\n",
              "      <td>-0.964660</td>\n",
              "      <td>-0.821464</td>\n",
              "      <td>0</td>\n",
              "    </tr>\n",
              "    <tr>\n",
              "      <th>4</th>\n",
              "      <td>-0.226435</td>\n",
              "      <td>0.078279</td>\n",
              "      <td>0.969485</td>\n",
              "      <td>0.380790</td>\n",
              "      <td>0.370813</td>\n",
              "      <td>0.287901</td>\n",
              "      <td>0.701470</td>\n",
              "      <td>-0.574909</td>\n",
              "      <td>-0.268200</td>\n",
              "      <td>-0.022259</td>\n",
              "      <td>-0.713656</td>\n",
              "      <td>-0.606227</td>\n",
              "      <td>-0.235301</td>\n",
              "      <td>-1.413193</td>\n",
              "      <td>0.560750</td>\n",
              "      <td>-0.660492</td>\n",
              "      <td>-0.567023</td>\n",
              "      <td>0.544763</td>\n",
              "      <td>0.682926</td>\n",
              "      <td>-0.651738</td>\n",
              "      <td>-0.753086</td>\n",
              "      <td>-0.341867</td>\n",
              "      <td>-0.812714</td>\n",
              "      <td>-0.526747</td>\n",
              "      <td>-0.456139</td>\n",
              "      <td>-1.012014</td>\n",
              "      <td>0.463943</td>\n",
              "      <td>-0.214888</td>\n",
              "      <td>-1.044322</td>\n",
              "      <td>-0.884710</td>\n",
              "      <td>0</td>\n",
              "    </tr>\n",
              "  </tbody>\n",
              "</table>\n",
              "</div>"
            ],
            "text/plain": [
              "   spectral_mfcc_02_dvar  ...  genre\n",
              "0               0.330636  ...      0\n",
              "1              -0.288091  ...      0\n",
              "2              -0.071401  ...      0\n",
              "3               0.042013  ...      0\n",
              "4              -0.226435  ...      0\n",
              "\n",
              "[5 rows x 31 columns]"
            ]
          },
          "metadata": {
            "tags": []
          },
          "execution_count": 45
        }
      ]
    },
    {
      "cell_type": "code",
      "metadata": {
        "id": "bjstG9_uBNTT",
        "colab_type": "code",
        "colab": {}
      },
      "source": [
        "targets_df = df_encoded[df_encoded.columns[30]]\n",
        "targets = targets_df.values\n",
        "torch_targets = torch.tensor(targets,dtype=torch.float64)\n",
        "torch_features = torch.tensor(df_encoded[df_encoded.columns[:30]].values)\n",
        "dataset30 = D.TensorDataset(torch_features,torch_targets)\n",
        "train_size = int(0.8 * len(dataset30))\n",
        "test_size = (len(dataset30) - train_size)//2\n",
        "val_size = (len(dataset30) - train_size) - test_size\n",
        "train_dataset30, val_dataset30, test_dataset30 = torch.utils.data.random_split(dataset30, [train_size, val_size, test_size])\n",
        "\n",
        "train_loader30 = D.DataLoader(train_dataset30, batch_size=10, shuffle=True)\n",
        "val_loader30 = D.DataLoader(val_dataset30, batch_size=len(val_dataset30), shuffle=False)\n",
        "testloader30 = D.DataLoader(test_dataset30, batch_size=len(test_dataset30), shuffle=False)\n",
        "all_loader30 = D.DataLoader(dataset30, batch_size=1, shuffle=False)"
      ],
      "execution_count": 0,
      "outputs": []
    },
    {
      "cell_type": "code",
      "metadata": {
        "id": "F4YDZ0YPB2b3",
        "colab_type": "code",
        "colab": {}
      },
      "source": [
        "class Fc_3(nn.Module):\n",
        "  def __init__(self):\n",
        "    super(Fc_3, self).__init__()\n",
        "    self.fc1 = nn.Linear(30,48)\n",
        "    self.fc2 = nn.Linear(48,30)\n",
        "    self.fc3 = nn.Linear(30,10)\n",
        "  def forward(self, x):\n",
        "    x = F.leaky_relu(self.fc1(x))\n",
        "    x = F.leaky_relu(self.fc2(x))\n",
        "    x = F.leaky_relu(self.fc3(x))\n",
        "    return x"
      ],
      "execution_count": 0,
      "outputs": []
    },
    {
      "cell_type": "code",
      "metadata": {
        "id": "y8SUDKOZCFjw",
        "colab_type": "code",
        "outputId": "3ed3434b-91c2-4aa5-cc98-ff16ddf7321d",
        "colab": {
          "base_uri": "https://localhost:8080/",
          "height": 299
        }
      },
      "source": [
        "net = Fc_3()\n",
        "criterion = nn.CrossEntropyLoss()\n",
        "optimizer = optim.SGD(net.parameters(),lr=0.001, momentum = 0.9,weight_decay = 0.001)\n",
        "epoch = 500\n",
        "train_loss, val_loss = train_valcheck(net,train_loader30,val_loader30,criterion, optimizer, epoch)\n",
        "plt.plot(train_loss)\n",
        "plt.plot(64*val_loss)\n",
        "print(\"train acc: \",test(net,train_loader30))\n",
        "print(\"val acc: \",test(net,val_loader30))"
      ],
      "execution_count": 0,
      "outputs": [
        {
          "output_type": "stream",
          "text": [
            "train acc:  99.21875\n",
            "val acc:  78.75\n"
          ],
          "name": "stdout"
        },
        {
          "output_type": "display_data",
          "data": {
            "image/png": "[encoded data removed]",
            "text/plain": [
              "<Figure size 432x288 with 1 Axes>"
            ]
          },
          "metadata": {
            "tags": []
          }
        }
      ]
    },
    {
      "cell_type": "code",
      "metadata": {
        "id": "_9tRHQq5EIng",
        "colab_type": "code",
        "colab": {}
      },
      "source": [
        "class Fc_4(nn.Module):\n",
        "  def __init__(self):\n",
        "    super(Fc_4, self).__init__()\n",
        "    self.fc1 = nn.Linear(30,30)\n",
        "    self.fc3 = nn.Linear(30,10)\n",
        "  def forward(self, x):\n",
        "    x = F.leaky_relu(self.fc1(x))\n",
        "    x = F.leaky_relu(self.fc3(x))\n",
        "    return x"
      ],
      "execution_count": 0,
      "outputs": []
    },
    {
      "cell_type": "code",
      "metadata": {
        "id": "MGm7upPQEQEs",
        "colab_type": "code",
        "outputId": "0e4b99a8-510a-4aa5-f6c5-b2d3e08633dd",
        "colab": {
          "base_uri": "https://localhost:8080/",
          "height": 299
        }
      },
      "source": [
        "net = Fc_4()\n",
        "criterion = nn.CrossEntropyLoss()\n",
        "optimizer = optim.SGD(net.parameters(),lr=0.001, momentum = 0.9,weight_decay = 0.001)\n",
        "epoch = 500\n",
        "train_loss, val_loss = train_valcheck(net,train_loader30,val_loader30,criterion, optimizer, epoch)\n",
        "plt.plot(train_loss)\n",
        "plt.plot(64*val_loss)\n",
        "print(\"train acc: \",test(net,train_loader30))\n",
        "print(\"val acc: \",test(net,val_loader30))"
      ],
      "execution_count": 0,
      "outputs": [
        {
          "output_type": "stream",
          "text": [
            "train acc:  97.8125\n",
            "val acc:  76.25\n"
          ],
          "name": "stdout"
        },
        {
          "output_type": "display_data",
          "data": {
            "image/png": "[encoded data removed]",
            "text/plain": [
              "<Figure size 432x288 with 1 Axes>"
            ]
          },
          "metadata": {
            "tags": []
          }
        }
      ]
    },
    {
      "cell_type": "code",
      "metadata": {
        "id": "iuQPmR8hGXkt",
        "colab_type": "code",
        "colab": {}
      },
      "source": [
        "model = Fc_4\n",
        "acc, net2 = kfold_cv(model,10,dataset30,500)"
      ],
      "execution_count": 0,
      "outputs": []
    },
    {
      "cell_type": "code",
      "metadata": {
        "id": "YiKIFQtIJnFv",
        "colab_type": "code",
        "outputId": "baf25a42-d0c5-453a-ab73-3582d3e6936f",
        "colab": {
          "base_uri": "https://localhost:8080/",
          "height": 374
        }
      },
      "source": [
        "model = Fc_3\n",
        "acc, net2 = kfold_cv(model,10,dataset30,500)"
      ],
      "execution_count": 0,
      "outputs": [
        {
          "output_type": "stream",
          "text": [
            "Train acc 99.02777777777777\n",
            "Accuracy of 0 st fold is %  78.75\n",
            "Train acc 99.58333333333333\n",
            "Accuracy of 1 st fold is %  85.0\n",
            "Train acc 99.30555555555556\n",
            "Accuracy of 2 st fold is %  78.75\n",
            "Train acc 99.44444444444444\n",
            "Accuracy of 3 st fold is %  76.25\n",
            "Train acc 99.44444444444444\n",
            "Accuracy of 4 st fold is %  71.25\n",
            "Train acc 100.0\n",
            "Accuracy of 5 st fold is %  78.75\n",
            "Train acc 100.0\n",
            "Accuracy of 6 st fold is %  78.75\n",
            "Train acc 99.86111111111111\n",
            "Accuracy of 7 st fold is %  83.75\n",
            "Train acc 99.58333333333333\n",
            "Accuracy of 8 st fold is %  81.25\n",
            "Train acc 99.16666666666667\n",
            "Accuracy of 9 st fold is %  83.75\n",
            "Average accuracy:  79.625\n"
          ],
          "name": "stdout"
        }
      ]
    },
    {
      "cell_type": "code",
      "metadata": {
        "id": "9XnXTQIpNUcy",
        "colab_type": "code",
        "outputId": "8e64b24a-641f-4523-87ae-4aea1e568daf",
        "colab": {
          "base_uri": "https://localhost:8080/",
          "height": 357
        }
      },
      "source": [
        "model = Fc_3\n",
        "acc, net2 = kfold_cv(model,10,dataset30,200)"
      ],
      "execution_count": 0,
      "outputs": [
        {
          "output_type": "stream",
          "text": [
            "Train acc 95.27777777777777\n",
            "Accuracy of 0 st fold is %  75.0\n",
            "Train acc 94.44444444444444\n",
            "Accuracy of 1 st fold is %  70.0\n",
            "Train acc 95.55555555555556\n",
            "Accuracy of 2 st fold is %  76.25\n",
            "Train acc 95.97222222222223\n",
            "Accuracy of 3 st fold is %  75.0\n",
            "Train acc 93.47222222222223\n",
            "Accuracy of 4 st fold is %  76.25\n",
            "Train acc 93.61111111111111\n",
            "Accuracy of 5 st fold is %  81.25\n",
            "Train acc 95.27777777777777\n",
            "Accuracy of 6 st fold is %  76.25\n",
            "Train acc 96.25\n",
            "Accuracy of 7 st fold is %  77.5\n",
            "Train acc 95.41666666666667\n",
            "Accuracy of 8 st fold is %  83.75\n",
            "Train acc 93.33333333333333\n",
            "Accuracy of 9 st fold is %  77.5\n"
          ],
          "name": "stdout"
        }
      ]
    }
  ]
}