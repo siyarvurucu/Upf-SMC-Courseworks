{
 "cells": [
  {
   "cell_type": "markdown",
   "metadata": {},
   "source": [
    "# Exercise 2: Sinusoids and the DFT\n",
    "\n",
    "Doing this exercise you will get a better understanding of the basics elements and operations that take place in the Discrete Fourier Transform (DFT). There are five parts: 1) Generate a sinusoid, 2) Generate a complex sinusoid, 3) Implement the DFT, 4) Implement the IDFT, and 5) Compute the magnitude spectrum of an input sequence.\n",
    "\n",
    "### Relevant Concepts\n",
    "\n",
    "A real sinusoid in discrete time domain can be expressed by:\n",
    "\n",
    "\\begin{equation}\n",
    "x[n] = A\\cos(2 \\pi fnT + \\varphi)\n",
    "\\end{equation}\n",
    "\n",
    "where, $x$ is the array of real values of the sinusoid, $n$ is an integer value expressing the time index, $A$ is the amplitude value of the sinusoid, $f$ is the frequency value of the sinusoid in Hz, $T$ is the sampling period equal to $1/fs$, fs is the sampling frequency in Hz, and $\\varphi$ is the initial phase of the sinusoid in radians.\n",
    "\n",
    "A complex sinusoid in discrete time domain can be expressed by:\n",
    "\n",
    "\\begin{equation}\n",
    "\\bar{x}[n] = Ae^{j(\\omega nT + \\varphi)} = A\\cos(\\omega nT + \\varphi)+ j A\\sin(\\omega nT + \\varphi)\n",
    "\\end{equation}\n",
    "\n",
    "where, $\\bar{x}$ is the array of complex values of the sinusoid, $n$ is an integer value expressing the time index, $A$ is the amplitude value of the sinusoid, $e$ is the complex exponential number, $\\omega$ is the frequency of the sinusoid in radians per second (equal to $2 \\pi f$), $T$ is the sampling period equal $1/fs$, fs is the sampling frequency in Hz and $\\varphi$ is the initial phase of the sinusoid in radians.\n",
    "\n",
    "The $N$ point DFT of a sequence of real values $x$ (a sound) can be expressed by:\n",
    "\n",
    "\\begin{equation}\n",
    "X[k] = \\sum_{n=0}^{N-1} x[n]e^{-j2 \\pi kn/N}  \\hspace{1cm} k=0,...,N-1\n",
    "\\end{equation}\n",
    "\n",
    "where $n$ is an integer value expressing the discrete time index, $k$ is an integer value expressing the discrete frequency index, and $N$ is the length of the DFT.\n",
    "\n",
    "The IDFT of a spectrum $X$ of length $N$ can be expressed by:\n",
    "\n",
    "\\begin{equation}\n",
    "x[n] = \\frac{1}{N} \\sum_{k=0}^{N-1} X[k]e^{j2 \\pi kn/N}  \\hspace{1cm} n=0,...,N-1\n",
    "\\end{equation}\n",
    "\n",
    "where, $n$ is an integer value expressing the discrete time index, $k$ is an integer value expressing the discrete frequency index, and $N$ is the length of the spectrum $X$.\n",
    "\n",
    "The magnitude of a complex spectrum $X$ is obtained by taking its absolute value: $|X[k]| $\n"
   ]
  },
  {
   "cell_type": "markdown",
   "metadata": {},
   "source": [
    "## Part 1 - Generate a sinusoid\n",
    "\n",
    "Complete the function `gen_sine` to generate a real sinusoid (use `np.cos()`) given its amplitude `A`, frequency `f` (Hz), initial phase `phi` (radians), sampling rate `fs` (Hz) and duration `t` (seconds). \n",
    "\n",
    "All the input arguments to this function `(A, f, phi, fs and t)` are real numbers such that `A`, `t` and `fs` are positive, and `fs > 2*f` to avoid aliasing. The function should return a numpy array `x` of the generated sinusoid. \n",
    "\n",
    "Use the function `cos` of the numpy package to compute the sinusoidal values."
   ]
  },
  {
   "cell_type": "code",
   "execution_count": 1,
   "metadata": {},
   "outputs": [],
   "source": [
    "import numpy as np"
   ]
  },
  {
   "cell_type": "code",
   "execution_count": 2,
   "metadata": {},
   "outputs": [],
   "source": [
    "def gen_sine(A, f, phi, fs, t):\n",
    "    \"\"\"\n",
    "    Inputs:\n",
    "        A (float) =  amplitude of the sinusoid\n",
    "        f (float) = frequency of the sinusoid in Hz\n",
    "        phi (float) = initial phase of the sinusoid in radians\n",
    "        fs (float) = sampling frequency of the sinusoid in Hz\n",
    "        t (float) =  duration of the sinusoid (is second)\n",
    "    Output:\n",
    "        x (numpy array) = generated sinusoid\n",
    "    \"\"\"\n",
    "    ### your code here\n",
    "    return A*np.cos((2*np.pi*np.arange(fs*t)*f/fs+phi))\n",
    "    "
   ]
  },
  {
   "cell_type": "markdown",
   "metadata": {},
   "source": [
    "Now call and test the `gen_sine()` function. If you use `A=1.0, f = 10.0, phi = 1.0, fs = 50` and `t = 0.1`, the output numpy array should be:\n",
    "\n",
    "```\n",
    "array([ 0.54030231, -0.63332387, -0.93171798,  0.05749049,  0.96724906])\n",
    "```\n",
    "\n",
    "To generate a sinewave that you can hear, it should be longer and with a higher sampling rate. For example you can use `A=1.0, f = 440.0, phi = 1.0, fs = 5000` and `t = 0.5`. To play it import the `Ipython.display` package and use `ipd.display(ipd.Audio(data=x, rate=fs))`."
   ]
  },
  {
   "cell_type": "code",
   "execution_count": 3,
   "metadata": {},
   "outputs": [
    {
     "data": {
      "text/plain": [
       "array([ 0.54030231, -0.63332387, -0.93171798,  0.05749049,  0.96724906])"
      ]
     },
     "execution_count": 3,
     "metadata": {},
     "output_type": "execute_result"
    }
   ],
   "source": [
    "gen_sine(1,10,1,50,0.1)"
   ]
  },
  {
   "cell_type": "code",
   "execution_count": 4,
   "metadata": {},
   "outputs": [
    {
     "data": {
      "text/html": [
       "\n",
       "                <audio controls=\"controls\" >\n",
       "                    <source src=\"data:audio/wav;base64,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\" type=\"audio/wav\" />\n",
       "                    Your browser does not support the audio element.\n",
       "                </audio>\n",
       "              "
      ],
      "text/plain": [
       "<IPython.lib.display.Audio object>"
      ]
     },
     "metadata": {},
     "output_type": "display_data"
    }
   ],
   "source": [
    "import IPython.display as ipd\n",
    "\n",
    "### your code here\n",
    "x = gen_sine(1,440,1,5000,0.5)\n",
    "ipd.display(ipd.Audio(data=x, rate=5000))"
   ]
  },
  {
   "cell_type": "markdown",
   "metadata": {},
   "source": [
    "## Part 2 - Generate a complex sinusoid \n",
    "\n",
    "Complete the `gen_complex_sine()` function to generate the complex sinusoid that is used in DFT computation of length `N` (samples), corresponding to the frequency index `k`. Note that the complex sinusoid used in DFT computation has a negative sign in the exponential function.\n",
    "\n",
    "The amplitude of such a complex sinusoid is `1`, the length is `N`, and the frequency in radians is `2*pi*k/N`.\n",
    "\n",
    "The input arguments to the function are two positive integers, `k` and `N`, such that `k < N-1`. The function should return `c_sine`, a numpy array of the complex sinusoid. Use the function `exp()` of the numpy package to compute the complex sinusoidal values."
   ]
  },
  {
   "cell_type": "code",
   "execution_count": 7,
   "metadata": {},
   "outputs": [],
   "source": [
    "def gen_complex_sine(k, N):\n",
    "    \"\"\"\n",
    "    Inputs:\n",
    "        k (integer) = frequency index of the complex sinusoid of the DFT\n",
    "        N (integer) = length of complex sinusoid in samples\n",
    "    Output:\n",
    "        c_sine (numpy array) = generated complex sinusoid (length N)\n",
    "    \"\"\"\n",
    "    ### your code here\n",
    "    return np.exp(-1j*2*np.pi*k*np.arange(N)/N)\n"
   ]
  },
  {
   "cell_type": "code",
   "execution_count": 10,
   "metadata": {},
   "outputs": [],
   "source": [
    "def gen_complex_sine_t(k, N):\n",
    "    \"\"\"\n",
    "    Inputs:\n",
    "        k (integer) = frequency index of the complex sinusoid of the DFT\n",
    "        N (integer) = length of complex sinusoid in samples\n",
    "    Output:\n",
    "        c_sine (numpy array) = generated complex sinusoid (length N)\n",
    "    \"\"\"\n",
    "    ### your code here\n",
    "    return np.exp(2*np.pi*k*np.arange(N)/N)\n"
   ]
  },
  {
   "cell_type": "code",
   "execution_count": 12,
   "metadata": {},
   "outputs": [
    {
     "data": {
      "text/plain": [
       "array([1.00000000e+00, 1.05507241e+01, 1.11317778e+02, 1.17448317e+03,\n",
       "       1.23916478e+04, 1.30740857e+05, 1.37941071e+06, 1.45537817e+07])"
      ]
     },
     "execution_count": 12,
     "metadata": {},
     "output_type": "execute_result"
    }
   ],
   "source": [
    "gen_complex_sine_t(3,8)"
   ]
  },
  {
   "cell_type": "markdown",
   "metadata": {},
   "source": [
    "Now run an test the `gen_complex_sine()` function. If you run it using `k=1` and `N=5`, the function should return the following numpy array:\n",
    "\n",
    "```\n",
    "array([ 1.0 + 0.j,  0.30901699 - 0.95105652j, -0.80901699 - 0.58778525j, -0.80901699 + 0.58778525j, 0.30901699 + 0.95105652j])\n",
    "```"
   ]
  },
  {
   "cell_type": "code",
   "execution_count": 6,
   "metadata": {},
   "outputs": [
    {
     "data": {
      "text/plain": [
       "array([ 1.        +0.j        ,  0.30901699-0.95105652j,\n",
       "       -0.80901699-0.58778525j, -0.80901699+0.58778525j,\n",
       "        0.30901699+0.95105652j])"
      ]
     },
     "execution_count": 6,
     "metadata": {},
     "output_type": "execute_result"
    }
   ],
   "source": [
    "# call gen_complex_sine\n",
    "### your code here\n",
    "gen_complex_sine(1,5)"
   ]
  },
  {
   "cell_type": "markdown",
   "metadata": {},
   "source": [
    "## Part 3 - Implement the discrete Fourier transform (DFT)\n",
    "\n",
    "Complete the function `dft()` to implement the discrete Fourier transform (DFT) equation given above. Given a sequence `x` of length `N`, the function should return its spectrum of length `N` with the frequency indexes ranging from 0 to `N-1`.\n",
    "\n",
    "The input argument to the function is a numpy array `x` and the function should return a numpy array `X`, the DFT of `x`."
   ]
  },
  {
   "cell_type": "code",
   "execution_count": 7,
   "metadata": {},
   "outputs": [],
   "source": [
    "def dft(x):\n",
    "    \"\"\"\n",
    "    Input:\n",
    "        x (numpy array) = input sequence of length N\n",
    "    Output:\n",
    "        X (numpy array) = N point DFT of the input sequence x\n",
    "    \"\"\"\n",
    "    ## Your code here\n",
    "    return np.sum(x*gen_complex_sine(np.array([np.arange(len(x))]).T,len(x)),axis=1)"
   ]
  },
  {
   "cell_type": "markdown",
   "metadata": {},
   "source": [
    "Now run and test the function `dft()`. If you run it using as input `x = np.array([1, 2, 3, 4])`, the function shoulds return the following numpy array:\n",
    "\n",
    "```\n",
    "array([10.0 + 0.0j,  -2. +2.0j,  -2.0 - 9.79717439e-16j, -2.0 - 2.0j])\n",
    "```\n",
    "\n",
    "Note that you might not get an exact 0 in the output because of the small numerical errors due to the limited precision of the data in your computer. Usually these errors are of the order 1e-15 depending on your machine."
   ]
  },
  {
   "cell_type": "code",
   "execution_count": 8,
   "metadata": {},
   "outputs": [
    {
     "data": {
      "text/plain": [
       "array([10.+0.00000000e+00j, -2.+2.00000000e+00j, -2.-9.79717439e-16j,\n",
       "       -2.-2.00000000e+00j])"
      ]
     },
     "execution_count": 8,
     "metadata": {},
     "output_type": "execute_result"
    }
   ],
   "source": [
    "# call dft\n",
    "### your code here\n",
    "dft(np.array([1,2,3,4]))"
   ]
  },
  {
   "cell_type": "markdown",
   "metadata": {},
   "source": [
    "## Part 4 - Implement the inverse discrete Fourier transform (IDFT)\n",
    "\n",
    "Complete the function `idft()` to implement the inverse discrete Fourier transform (IDFT) equation given above. Given a frequency spectrum `X` of length `N`, the function should return its IDFT `x`, also of length `N`. Assume that the frequency index of the input spectrum ranges from 0 to `N-1`.\n",
    "\n",
    "The input argument to the function is a numpy array `X` of the frequency spectrum and the function should return a numpy array of the IDFT of `X`.\n",
    "\n",
    "Remember to scale the output appropriately."
   ]
  },
  {
   "cell_type": "code",
   "execution_count": 9,
   "metadata": {},
   "outputs": [],
   "source": [
    "def idft(X):\n",
    "    \"\"\"\n",
    "    Input:\n",
    "        X (numpy array) = frequency spectrum (length N)\n",
    "    Output:\n",
    "        x (numpy array) = N point IDFT of the frequency spectrum X\n",
    "    \"\"\"\n",
    "    ### Your code here\n",
    "    return (np.sum(X*gen_complex_sine(np.array([-1*np.arange(len(X))]).T,len(X)),axis=1)/len(X))"
   ]
  },
  {
   "cell_type": "markdown",
   "metadata": {},
   "source": [
    "Now run and test the `idft()` function. If you run it with the input `X = np.array([1 ,1 ,1 ,1])`, the function should return the following numpy array: \n",
    "\n",
    "```\n",
    "array([  1.00000000e+00 +0.00000000e+00j,   -4.59242550e-17 +5.55111512e-17j,   0.00000000e+00 +6.12323400e-17j,   8.22616137e-17 +8.32667268e-17j])\n",
    "```\n",
    "\n",
    "Notice that the output numpy array is essentially `[1, 0, 0, 0]`. Instead of exact 0 we get very small numerical values of the order of 1e-15, which can be ignored. Also, these small numerical errors are machine dependent and might be different in your case.\n",
    "\n",
    "In addition, an interesting test of the IDFT function can be done by providing the output of the DFT of a sequence as the input to the IDFT. See if you get back the original time domain sequence."
   ]
  },
  {
   "cell_type": "code",
   "execution_count": 10,
   "metadata": {},
   "outputs": [
    {
     "data": {
      "text/plain": [
       "array([ 1.00000000e+00+0.00000000e+00j, -5.55111512e-17+2.77555756e-17j,\n",
       "        0.00000000e+00+6.12323400e-17j,  8.32667268e-17+1.11022302e-16j])"
      ]
     },
     "execution_count": 10,
     "metadata": {},
     "output_type": "execute_result"
    }
   ],
   "source": [
    "# call idft\n",
    "### your code here\n",
    "idft(np.array([1,1,1,1]))"
   ]
  },
  {
   "cell_type": "code",
   "execution_count": 11,
   "metadata": {},
   "outputs": [
    {
     "data": {
      "text/plain": [
       "array([1.+0.j, 0.+0.j, 0.+0.j, 0.+0.j])"
      ]
     },
     "execution_count": 11,
     "metadata": {},
     "output_type": "execute_result"
    }
   ],
   "source": [
    "x = idft(np.array([1,1,1,1]))  # setting very small values to zero\n",
    "x[abs(x)<1e-10] = 0\n",
    "x"
   ]
  },
  {
   "cell_type": "markdown",
   "metadata": {},
   "source": [
    "## Part 5 - Compute the magnitude spectrum\n",
    "\n",
    "Complete the function `gen_mag_spectrum()` to compute the magnitude spectrum of an input sequence `x` of length `N`. The function should return an `N` point magnitude spectrum with frequency index ranging from 0 to `N-1`.\n",
    "\n",
    "The input argument to the function is a numpy array `x` and the function should return a numpy array of the magnitude spectrum of `x`."
   ]
  },
  {
   "cell_type": "code",
   "execution_count": 12,
   "metadata": {},
   "outputs": [],
   "source": [
    "def gen_mag_spec(x):\n",
    "    \"\"\"\n",
    "    Input:\n",
    "        x (numpy array) = input sequence of length N\n",
    "    Output:\n",
    "        magX (numpy array) = magnitude spectrum of the input sequence x (length N)\n",
    "    \"\"\"\n",
    "    ### Your code here\n",
    "    return abs(dft(x))\n",
    "    "
   ]
  },
  {
   "cell_type": "code",
   "execution_count": 13,
   "metadata": {},
   "outputs": [
    {
     "data": {
      "text/plain": [
       "array([10.        ,  2.82842712,  2.        ,  2.82842712])"
      ]
     },
     "execution_count": 13,
     "metadata": {},
     "output_type": "execute_result"
    }
   ],
   "source": [
    "gen_mag_spec(np.array([1,2,3,4]))"
   ]
  },
  {
   "cell_type": "markdown",
   "metadata": {},
   "source": [
    "Now run and test the function `gen_mag_spec()`. If you run `gen_mag_spec()` using as input `x = np.array([1, 2, 3, 4])`, it should return the following numpy array:\n",
    "```\n",
    "array([10.0, 2.82842712, 2.0, 2.82842712])\n",
    "```\n",
    "For a more realistic use of `gen_mag_spec()` use as input a longer signal, such as `x = np.cos(2*np.pi*200.0*np.arange(512)/1000)`, and to get a visual representation of the input and output, import the `matplotlib.pyplot` package and use `plt.plot(x)` and `plt.plot(abs(X))`."
   ]
  },
  {
   "cell_type": "code",
   "execution_count": 14,
   "metadata": {},
   "outputs": [],
   "source": [
    "def gen_phase_spec(x):  \n",
    "    return np.angle(dft(x))"
   ]
  },
  {
   "cell_type": "code",
   "execution_count": 15,
   "metadata": {},
   "outputs": [],
   "source": [
    "import IPython.display as ipd\n",
    "import matplotlib.pyplot as plt"
   ]
  },
  {
   "cell_type": "code",
   "execution_count": 16,
   "metadata": {},
   "outputs": [
    {
     "data": {
      "image/png": "[encoded data removed]",
      "text/plain": [
       "<matplotlib.figure.Figure at 0x7ff044a7e278>"
      ]
     },
     "metadata": {
      "needs_background": "light"
     },
     "output_type": "display_data"
    },
    {
     "data": {
      "image/png": "[encoded data removed]",
      "text/plain": [
       "<matplotlib.figure.Figure at 0x7ff0429d6668>"
      ]
     },
     "metadata": {
      "needs_background": "light"
     },
     "output_type": "display_data"
    },
    {
     "data": {
      "text/plain": [
       "[<matplotlib.lines.Line2D at 0x7ff0428d4828>]"
      ]
     },
     "execution_count": 16,
     "metadata": {},
     "output_type": "execute_result"
    },
    {
     "data": {
      "image/png": "[encoded data removed]",
      "text/plain": [
       "<matplotlib.figure.Figure at 0x7ff0429593c8>"
      ]
     },
     "metadata": {
      "needs_background": "light"
     },
     "output_type": "display_data"
    }
   ],
   "source": [
    "# call gen_mag_spec and plot result\n",
    "### your code here\n",
    "import matplotlib.pyplot as plt\n",
    "fs = 1000\n",
    "x = gen_sine(1,200,0,fs,1)\n",
    "magX = gen_mag_spec(x)\n",
    "phaseX = gen_phase_spec(x)\n",
    "plt.plot(x[:100])\n",
    "plt.show()\n",
    "plt.plot(magX[:int(fs/2)])\n",
    "plt.show()\n",
    "plt.plot((np.unwrap(phaseX[:int(fs/2)])))"
   ]
  }
 ],
 "metadata": {
  "kernelspec": {
   "display_name": "Python 3",
   "language": "python",
   "name": "python3"
  },
  "language_info": {
   "codemirror_mode": {
    "name": "ipython",
    "version": 3
   },
   "file_extension": ".py",
   "mimetype": "text/x-python",
   "name": "python",
   "nbconvert_exporter": "python",
   "pygments_lexer": "ipython3",
   "version": "3.6.8"
  }
 },
 "nbformat": 4,
 "nbformat_minor": 2
}
